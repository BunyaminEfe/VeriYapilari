{
  "nbformat": 4,
  "nbformat_minor": 0,
  "metadata": {
    "colab": {
      "name": "VeriYapilari_Ders4.ipynb",
      "provenance": [],
      "authorship_tag": "ABX9TyMUX1/6vdXg994a4cTG2amF"
    },
    "kernelspec": {
      "name": "python3",
      "display_name": "Python 3"
    },
    "language_info": {
      "name": "python"
    }
  },
  "cells": [
    {
      "cell_type": "code",
      "metadata": {
        "id": "WhUBSvP_aqS6"
      },
      "source": [
        "class personel:\n",
        "    tipi=\"insan\"\n",
        "    def __init__(self,ad,no):\n",
        "        self.ad=ad\n",
        "        self.no=no\n",
        "        print('Personel Eklendi...')\n",
        "    def adinNe(self):\n",
        "        return(\"ad: \"+self.ad)\n",
        "    def numaraNe(self):\n",
        "        return(\"no: \"+str(self.no))"
      ],
      "execution_count": 1,
      "outputs": []
    },
    {
      "cell_type": "code",
      "metadata": {
        "colab": {
          "base_uri": "https://localhost:8080/"
        },
        "id": "Z0wh0dOibpmC",
        "outputId": "963c4db0-335d-42ae-ad55-cab55179f9c5"
      },
      "source": [
        "kisi1=personel(\"ali\",101)\n",
        "kisi2=personel(\"veli\",102)\n",
        "kisi3=personel(\"zeki\",103)"
      ],
      "execution_count": 3,
      "outputs": [
        {
          "output_type": "stream",
          "text": [
            "Personel Eklendi...\n",
            "Personel Eklendi...\n",
            "Personel Eklendi...\n"
          ],
          "name": "stdout"
        }
      ]
    },
    {
      "cell_type": "code",
      "metadata": {
        "colab": {
          "base_uri": "https://localhost:8080/"
        },
        "id": "a26w8utCb1W8",
        "outputId": "b38d72fa-f99e-4582-ba45-447661e2aee3"
      },
      "source": [
        "print(kisi3.adinNe())\n",
        "print(kisi3.numaraNe())"
      ],
      "execution_count": 5,
      "outputs": [
        {
          "output_type": "stream",
          "text": [
            "ad: zeki\n",
            "no: 103\n"
          ],
          "name": "stdout"
        }
      ]
    },
    {
      "cell_type": "code",
      "metadata": {
        "id": "o3lCsntMcTIU"
      },
      "source": [
        "class Ogrenci:\n",
        "    'Tüm öğrenciler için temel sınıf'\n",
        "    Ogrenci_sayisi = 0\n",
        "    \n",
        "    def __init__(self, adi, numarasi):\n",
        "        self.adi = adi\n",
        "        self.numarasi = numarasi\n",
        "        Ogrenci.Ogrenci_sayisi += 1\n",
        "        \n",
        "    def OgrenciSayisiGoster(self):\n",
        "        print(\"Toplam öğrenci: %d\" % Ogrenci.Ogrenci_sayisi)\n",
        " \n",
        "    def OgrenciGoster(self):\n",
        "        print(\"Adi : \", self.adi,  \", Numarası: \", self.numarasi)"
      ],
      "execution_count": 10,
      "outputs": []
    },
    {
      "cell_type": "code",
      "metadata": {
        "id": "flZ4vXpXcW-L"
      },
      "source": [
        "ogr1 = Ogrenci(\"Öğrenci1\", 1000)\n",
        "ogr2 = Ogrenci(\"Öğrenci2\", 2000)\n",
        "ogr3 = Ogrenci(\"Öğrenci3\", 3000)"
      ],
      "execution_count": 11,
      "outputs": []
    },
    {
      "cell_type": "code",
      "metadata": {
        "colab": {
          "base_uri": "https://localhost:8080/"
        },
        "id": "xBG1f6efcbPp",
        "outputId": "65e55f41-35a5-421e-dcc6-3d763807f5e8"
      },
      "source": [
        "ogr1.OgrenciGoster()\n",
        "ogr2.OgrenciGoster()\n",
        "ogr3.OgrenciGoster()\n",
        "print(\"Toplam öğrenci %d\" % Ogrenci.Ogrenci_sayisi)"
      ],
      "execution_count": 12,
      "outputs": [
        {
          "output_type": "stream",
          "text": [
            "Adi :  Öğrenci1 , Numarası:  1000\n",
            "Adi :  Öğrenci2 , Numarası:  2000\n",
            "Adi :  Öğrenci3 , Numarası:  3000\n",
            "Toplam öğrenci 3\n"
          ],
          "name": "stdout"
        }
      ]
    },
    {
      "cell_type": "markdown",
      "metadata": {
        "id": "35iroBRlhK_S"
      },
      "source": [
        "__dict__ : Sınıfın ad alanını içeren sözlük.\n",
        "\n",
        "__doc__ : Tanımlanmamışsa, sınıf belgelendirme metni içerir.\n",
        "\n",
        "__name__ : Sınıf adı.\n",
        "\n",
        "__module__ : Sınıfın tanımlandığı modül adı. Bu özellik, etkileşimli modda “__main__” şeklindedir.\n",
        "\n",
        "__bases__ : Temel sınıf listesindeki oluşum sırasına göre, temel sınıflarda muhtemelen boş bir tüpledir."
      ]
    },
    {
      "cell_type": "code",
      "metadata": {
        "colab": {
          "base_uri": "https://localhost:8080/"
        },
        "id": "CAWrsQa_hKlJ",
        "outputId": "8f5d07de-51ba-4cbb-d46b-aabf54997341"
      },
      "source": [
        "print(\"Ogrenci.__doc__:\", Ogrenci.__doc__)\n",
        "print(\"Ogrenci.__name__:\", Ogrenci.__name__)\n",
        "print(\"Ogrenci.__module__:\", Ogrenci.__module__)\n",
        "print(\"Ogrenci.__bases__:\", Ogrenci.__bases__)\n",
        "print(\"Ogrenci.__dict__:\", Ogrenci.__dict__)"
      ],
      "execution_count": 13,
      "outputs": [
        {
          "output_type": "stream",
          "text": [
            "Ogrenci.__doc__: Tüm öğrenciler için temel sınıf\n",
            "Ogrenci.__name__: Ogrenci\n",
            "Ogrenci.__module__: __main__\n",
            "Ogrenci.__bases__: (<class 'object'>,)\n",
            "Ogrenci.__dict__: {'__module__': '__main__', '__doc__': 'Tüm öğrenciler için temel sınıf', 'Ogrenci_sayisi': 3, '__init__': <function Ogrenci.__init__ at 0x7faddd8ad320>, 'OgrenciSayisiGoster': <function Ogrenci.OgrenciSayisiGoster at 0x7faddd8ad4d0>, 'OgrenciGoster': <function Ogrenci.OgrenciGoster at 0x7faddd8bdb90>, '__dict__': <attribute '__dict__' of 'Ogrenci' objects>, '__weakref__': <attribute '__weakref__' of 'Ogrenci' objects>}\n"
          ],
          "name": "stdout"
        }
      ]
    },
    {
      "cell_type": "markdown",
      "metadata": {
        "id": "9Za6HZuOh6DH"
      },
      "source": [
        "Özelliklere erişmek için normal ifadeleri kullanmak yerine, aşağıdaki fonksiyonları kullanabilirsiniz:\n",
        "\n",
        "getattr (obj, name [, default]): nesnenin özelliğine erişmek için kullanılır.\n",
        "\n",
        "hasattr (obj, name): bir özellik var olup olmadığını kontrol etmek için kullanılır. (True / False)\n",
        "setattr (obj, name, value) – bir özellik belirlemek için kullanılır. Özellik yoksa, o zaman yaratılır.\n",
        "\n",
        "delattr (obj, name) – bir özelliği silmek için kullanılır."
      ]
    },
    {
      "cell_type": "code",
      "metadata": {
        "colab": {
          "base_uri": "https://localhost:8080/"
        },
        "id": "Kcs6bcLJh-Vk",
        "outputId": "cdd0a563-3c9d-4e61-cbf6-f17359ea71b9"
      },
      "source": [
        "class Ana:        # ana sinif\n",
        "    AnaAttr = 100\n",
        "    def __init__(self):\n",
        "        print(\"Ana constructor'ı çağırma\")\n",
        "    \n",
        "    def AnaMethod(self):\n",
        "        print('Ana metotu çağırma')\n",
        " \n",
        "    def setAttr(self, attr):\n",
        "        Ana.AnaAttr = attr\n",
        " \n",
        "    def getAttr(self):\n",
        "        print('Ana attribute :', Ana.AnaAttr)\n",
        " \n",
        "class Cocuk(Ana): # cocuk sinif\n",
        "    def __init__(self):\n",
        "        print(\"Cocuk constructor'ı çağırma\")\n",
        "    def CocukMethod(self):\n",
        "        print('Cocuk methotu çağırma')\n",
        " \n",
        "c = Cocuk()          # Cocuk ornegi\n",
        "c.CocukMethod()      # Cocuk metodu cagirma\n",
        "c.AnaMethod()     # Ana'nin metodunu cagirma\n",
        "c.setAttr(200)       # Ana'nin metodunu set icin cagirma\n",
        "c.getAttr()          # Ana'nin metodunu get icin cagirma"
      ],
      "execution_count": 16,
      "outputs": [
        {
          "output_type": "stream",
          "text": [
            "Cocuk constructor'ı çağırma\n",
            "Cocuk methotu çağırma\n",
            "Ana metotu çağırma\n",
            "Ana attribute : 200\n"
          ],
          "name": "stdout"
        }
      ]
    },
    {
      "cell_type": "code",
      "metadata": {
        "colab": {
          "base_uri": "https://localhost:8080/"
        },
        "id": "FQgnf0_ZilZt",
        "outputId": "67ee62e8-b047-409e-e145-c181f2e5aec1"
      },
      "source": [
        "class Sayac:\n",
        "    __priSayac = 0 #lokal __ den dolayı \n",
        "    priSayac=0  #global\n",
        "    \n",
        "    def say(self):\n",
        "        self.__priSayac += 1\n",
        "        self.priSayac+=2\n",
        "        print(self.__priSayac)\n",
        " \n",
        "syc = Sayac()\n",
        "syc.say()\n",
        "syc.say()\n",
        "print(syc.priSayac)"
      ],
      "execution_count": 19,
      "outputs": [
        {
          "output_type": "stream",
          "text": [
            "1\n",
            "2\n",
            "4\n"
          ],
          "name": "stdout"
        }
      ]
    },
    {
      "cell_type": "code",
      "metadata": {
        "colab": {
          "base_uri": "https://localhost:8080/"
        },
        "id": "YK0PTDKr_VKS",
        "outputId": "d7c89a86-a81e-452d-ea98-9d1875f21004"
      },
      "source": [
        "class Person:\n",
        "  def __init__(self, name, age):\n",
        "    self.name = name\n",
        "    self.age = age\n",
        " \n",
        "  def myfunc(self):\n",
        "    print(\"Merhaba. Benim adım \" + self.name)\n",
        "    print(\"Yaşım : \"+ str(self.age))\n",
        " \n",
        "p1 = Person(\"Ali\", 36)\n",
        "print(p1.age)\n",
        "\n",
        "del p1.age\n",
        " \n",
        "#print(p1.age) 'Person' object has no attribute 'age' hatası alırız."
      ],
      "execution_count": 25,
      "outputs": [
        {
          "output_type": "stream",
          "text": [
            "36\n"
          ],
          "name": "stdout"
        }
      ]
    },
    {
      "cell_type": "markdown",
      "metadata": {
        "id": "wctdy2K5bqEB"
      },
      "source": [
        "KAYNAKÇA\n",
        "\n",
        "1-https://dev.to/aciklab/python-da-sinif-kavrami-27je\n",
        "\n",
        "2-https://erdincuzun.com/python/12-nesne-yonelimli-programlama-python/\n",
        "\n",
        "3-https://www.algoritmaornekleri.com/python/python-siniflar-objeler/"
      ]
    }
  ]
}