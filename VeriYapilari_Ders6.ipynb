{
  "nbformat": 4,
  "nbformat_minor": 0,
  "metadata": {
    "colab": {
      "name": "VeriYapilari_Ders6.ipynb",
      "provenance": [],
      "authorship_tag": "ABX9TyMccgb3kRKrzhg5IQ3uHQMY"
    },
    "kernelspec": {
      "name": "python3",
      "display_name": "Python 3"
    },
    "language_info": {
      "name": "python"
    }
  },
  "cells": [
    {
      "cell_type": "code",
      "metadata": {
        "colab": {
          "base_uri": "https://localhost:8080/"
        },
        "id": "ost3zIzh4z5a",
        "outputId": "7eea33d8-4ef0-4564-a5df-aaab6d02a6e0"
      },
      "source": [
        "kelime=input(\"Bir kelime girin :\")\n",
        "sozluk ={\"Computer\":\"Bilgisayar\",\n",
        "         \"Driver\":\"Sürücü\",\n",
        "         \"Memory\":\"Hafıza\",\n",
        "         \"Output\":\"Çıktı\",\n",
        "         \"Software\":\"Yazılım\",\n",
        "         \"Printer\":\"Yazıcı\"}\n",
        " \n",
        "if kelime in sozluk:\n",
        "    print(sozluk[kelime])\n",
        "else:\n",
        "    print(\"Aradığınız kelime Sözlükte bulunamadı\")"
      ],
      "execution_count": 3,
      "outputs": [
        {
          "output_type": "stream",
          "text": [
            "Bir kelime girin :Driver\n",
            "Sürücü\n"
          ],
          "name": "stdout"
        }
      ]
    },
    {
      "cell_type": "code",
      "metadata": {
        "colab": {
          "base_uri": "https://localhost:8080/"
        },
        "id": "NzPLJwOm5CMP",
        "outputId": "54cee547-f961-4d43-e3a7-2ad66bb34705"
      },
      "source": [
        "kelime=input(\"Bir kelime girin :\")\n",
        "sozluk ={\"Computer\":\"Bilgisayar\",\n",
        "         \"Driver\":\"Sürücü\",\n",
        "         \"Memory\":\"Hafıza\",\n",
        "         \"Output\":\"Çıktı\",\n",
        "         \"Software\":\"Yazılım\",\n",
        "         \"Printer\":\"Yazıcı\"}\n",
        "print(sozluk.get(kelime,\"Aradığınız kelime Sözlük içinde bulunmamaktadır\"))"
      ],
      "execution_count": 8,
      "outputs": [
        {
          "output_type": "stream",
          "text": [
            "Bir kelime girin :Computer\n",
            "Bilgisayar\n"
          ],
          "name": "stdout"
        }
      ]
    },
    {
      "cell_type": "code",
      "metadata": {
        "colab": {
          "base_uri": "https://localhost:8080/"
        },
        "id": "pddIWgrs5W5W",
        "outputId": "c153fab7-1c19-489a-cd4f-3257ed0e8332"
      },
      "source": [
        "sozluk ={\"Driver\":\"Sürücü\",\n",
        "         \"Memory\":\"Hafıza\",\n",
        "         \"Output\":\"Çıktı\",\n",
        "         \"Software\":\"Yazılım\",\n",
        "         \"Printer\":\"Yazıcı\"}\n",
        " \n",
        "sozluk.pop(\"Driver\") #kendisine parametre olarak gelen key'i siler...\n",
        "print(sozluk)"
      ],
      "execution_count": 6,
      "outputs": [
        {
          "output_type": "stream",
          "text": [
            "{'Memory': 'Hafıza', 'Output': 'Çıktı', 'Software': 'Yazılım', 'Printer': 'Yazıcı'}\n"
          ],
          "name": "stdout"
        }
      ]
    },
    {
      "cell_type": "code",
      "metadata": {
        "colab": {
          "base_uri": "https://localhost:8080/"
        },
        "id": "Ww0gvrgNfF-c",
        "outputId": "505640db-b67e-4a14-afa9-6c3d5ec2571e"
      },
      "source": [
        "ogrenci = {\n",
        "  \"numara\": \"120\",\n",
        "  \"ad\": \"Ahmet\",\n",
        "  \"soyad\": \"Yılmaz\"\n",
        "}\n",
        "\n",
        "print(ogrenci[\"numara\"]) # 120\n",
        "print(ogrenci[\"ad\"])     # Ahmet\n",
        "print(ogrenci[\"soyad\"])  # Yılmaz"
      ],
      "execution_count": 9,
      "outputs": [
        {
          "output_type": "stream",
          "text": [
            "120\n",
            "Ahmet\n",
            "Yılmaz\n"
          ],
          "name": "stdout"
        }
      ]
    },
    {
      "cell_type": "code",
      "metadata": {
        "colab": {
          "base_uri": "https://localhost:8080/"
        },
        "id": "t4Crl4RGfJdd",
        "outputId": "5987a43d-d79c-4c74-8d7c-c594ec62a1fa"
      },
      "source": [
        "ogrenci = {\n",
        "  \"numara\": \"120\",\n",
        "  \"ad\": \"Ahmet\",\n",
        "  \"soyad\": \"Yılmaz\"\n",
        "}\n",
        "\n",
        "numara = ogrenci.get(\"numara\")\n",
        "ad = ogrenci.get(\"ad\")\n",
        "soyad = ogrenci.get(\"soyad\")\n",
        "\n",
        "print(numara,ad,soyad)"
      ],
      "execution_count": 10,
      "outputs": [
        {
          "output_type": "stream",
          "text": [
            "120 Ahmet Yılmaz\n"
          ],
          "name": "stdout"
        }
      ]
    },
    {
      "cell_type": "code",
      "metadata": {
        "colab": {
          "base_uri": "https://localhost:8080/"
        },
        "id": "IxYod32RfW7v",
        "outputId": "577788e2-7aca-41bf-ac1f-95e32b837cad"
      },
      "source": [
        "ogrenciler = {}\n",
        "\n",
        "number = input(\"öğrenci no: \")\n",
        "name = input(\"öğrenci adı: \")\n",
        "surname = input(\"öğrenci soyad: \")\n",
        "phone = input(\"öğrenci telefon: \")\n",
        "\n",
        "ogrenciler.update({\n",
        "    number: {\n",
        "        'ad': name,\n",
        "        'soyad': surname,\n",
        "        'telefon':phone \n",
        "    }\n",
        "})"
      ],
      "execution_count": 13,
      "outputs": [
        {
          "output_type": "stream",
          "text": [
            "öğrenci no: 234\n",
            "öğrenci adı: XXX\n",
            "öğrenci soyad: YYY\n",
            "öğrenci telefon: 234234\n"
          ],
          "name": "stdout"
        }
      ]
    },
    {
      "cell_type": "code",
      "metadata": {
        "colab": {
          "base_uri": "https://localhost:8080/"
        },
        "id": "6Uc_dRAxtZ7c",
        "outputId": "6e2447a6-c962-49a2-b3f0-a56ef6212a3c"
      },
      "source": [
        "print(ogrenciler)"
      ],
      "execution_count": 14,
      "outputs": [
        {
          "output_type": "stream",
          "text": [
            "{'123': {'ad': 'Volkan', 'soyad': 'Altıntaş', 'telefon': '123123'}, '234': {'ad': 'XXX', 'soyad': 'YYY', 'telefon': '234234'}}\n"
          ],
          "name": "stdout"
        }
      ]
    },
    {
      "cell_type": "code",
      "metadata": {
        "colab": {
          "base_uri": "https://localhost:8080/"
        },
        "id": "SlP-dMJmfepY",
        "outputId": "720b3552-b4db-4c0c-d29d-99bc092c8575"
      },
      "source": [
        "ogrNo = input('öğrenci no: ')\n",
        "ogrenci = ogrenciler[ogrNo]\n",
        "print(ogrenci)\n",
        "\n",
        "print(f\"Aradığınız {ogrNo} nolu öğrencinin adı: {ogrenci['ad']} soyadı: {ogrenci['soyad']} ve telefonu ise {ogrenci['telefon']}\")"
      ],
      "execution_count": 16,
      "outputs": [
        {
          "output_type": "stream",
          "text": [
            "öğrenci no: 234\n",
            "{'ad': 'XXX', 'soyad': 'YYY', 'telefon': '234234'}\n",
            "Aradığınız 234 nolu öğrencinin adı: XXX soyadı: YYY ve telefonu ise 234234\n"
          ],
          "name": "stdout"
        }
      ]
    },
    {
      "cell_type": "markdown",
      "metadata": {
        "id": "GrfRHIyS6uXx"
      },
      "source": [
        "**Set(Küme) Nedir ?**"
      ]
    },
    {
      "cell_type": "code",
      "metadata": {
        "id": "EQuoVHbl50om",
        "colab": {
          "base_uri": "https://localhost:8080/"
        },
        "outputId": "8d65e36a-604a-499c-ac0e-f0cfcbf96bd2"
      },
      "source": [
        "kume= {\"Python\",'c',4,\"Akhisar\"}\n",
        "print(kume)"
      ],
      "execution_count": 26,
      "outputs": [
        {
          "output_type": "stream",
          "text": [
            "{'c', 'Akhisar', 'Python', 4}\n"
          ],
          "name": "stdout"
        }
      ]
    },
    {
      "cell_type": "code",
      "metadata": {
        "colab": {
          "base_uri": "https://localhost:8080/"
        },
        "id": "vECAPgIq64u5",
        "outputId": "52f81743-f480-48c9-c392-28cddb07959b"
      },
      "source": [
        "kume={} #dict()\n",
        "print(type(kume))"
      ],
      "execution_count": 27,
      "outputs": [
        {
          "output_type": "stream",
          "text": [
            "<class 'dict'>\n"
          ],
          "name": "stdout"
        }
      ]
    },
    {
      "cell_type": "code",
      "metadata": {
        "colab": {
          "base_uri": "https://localhost:8080/"
        },
        "id": "vXuQGlK87Aqp",
        "outputId": "d3c97a09-92b8-4254-8010-6130e7b4020d"
      },
      "source": [
        "kume=set()\n",
        "print(type(kume))"
      ],
      "execution_count": 28,
      "outputs": [
        {
          "output_type": "stream",
          "text": [
            "<class 'set'>\n"
          ],
          "name": "stdout"
        }
      ]
    },
    {
      "cell_type": "code",
      "metadata": {
        "colab": {
          "base_uri": "https://localhost:8080/"
        },
        "id": "HruiJhhgyeHm",
        "outputId": "f3b27d4c-07af-4b08-9662-b73639bf48a9"
      },
      "source": [
        "x={\"1\":\"bir\",\"2\":\"iki\"}\n",
        "print(type(x)) #sözlük,dictionary,dict\n",
        "y={\"1\",\"2\",\"3\"}\n",
        "print(type(y)) #set, küme"
      ],
      "execution_count": 30,
      "outputs": [
        {
          "output_type": "stream",
          "text": [
            "<class 'dict'>\n",
            "<class 'set'>\n"
          ],
          "name": "stdout"
        }
      ]
    },
    {
      "cell_type": "code",
      "metadata": {
        "colab": {
          "base_uri": "https://localhost:8080/"
        },
        "id": "gnFPhaID7GdK",
        "outputId": "2306aef1-1cae-4011-9cad-ece829153fac"
      },
      "source": [
        "kume= {\"Python\",'c',4,\"Akhisar\",4}\n",
        "print(kume)"
      ],
      "execution_count": 29,
      "outputs": [
        {
          "output_type": "stream",
          "text": [
            "{'c', 'Akhisar', 'Python', 4}\n"
          ],
          "name": "stdout"
        }
      ]
    },
    {
      "cell_type": "code",
      "metadata": {
        "colab": {
          "base_uri": "https://localhost:8080/"
        },
        "id": "kp_nWghrdLMd",
        "outputId": "ad12600e-5ec6-4dee-99db-1234a46addfa"
      },
      "source": [
        "kume= {\"Python\",'c',4,\"Cahit\",\"4\",\"python\"}\n",
        "print(len(kume))"
      ],
      "execution_count": 33,
      "outputs": [
        {
          "output_type": "stream",
          "text": [
            "6\n"
          ],
          "name": "stdout"
        }
      ]
    },
    {
      "cell_type": "code",
      "metadata": {
        "colab": {
          "base_uri": "https://localhost:8080/"
        },
        "id": "DDlb51c7dOdY",
        "outputId": "cb223491-9df2-4c39-e6fa-070ef0757e87"
      },
      "source": [
        "kume ={1,2,3,4,5}\n",
        "kume.add(6)\n",
        "print(kume)"
      ],
      "execution_count": 34,
      "outputs": [
        {
          "output_type": "stream",
          "text": [
            "{1, 2, 3, 4, 5, 6}\n"
          ],
          "name": "stdout"
        }
      ]
    },
    {
      "cell_type": "code",
      "metadata": {
        "colab": {
          "base_uri": "https://localhost:8080/"
        },
        "id": "gEPN-MuedU1L",
        "outputId": "b9b3d855-a23b-44a3-9b1f-6d2af0351de4"
      },
      "source": [
        "kume ={1,2,3,4,5,6}\n",
        "kume_yedek =set()\n",
        "kume_yedek=kume.copy()\n",
        "print(kume_yedek)"
      ],
      "execution_count": 35,
      "outputs": [
        {
          "output_type": "stream",
          "text": [
            "{1, 2, 3, 4, 5, 6}\n"
          ],
          "name": "stdout"
        }
      ]
    },
    {
      "cell_type": "code",
      "metadata": {
        "colab": {
          "base_uri": "https://localhost:8080/"
        },
        "id": "QtzJl5AWdgyw",
        "outputId": "c431ab99-b8e7-4353-99c8-df449098336e"
      },
      "source": [
        "kume ={1,2,3,4,5,6}\n",
        "kume_2={6,7,8,9,10}\n",
        "kume.update(kume_2)\n",
        "print(kume)"
      ],
      "execution_count": 37,
      "outputs": [
        {
          "output_type": "stream",
          "text": [
            "{1, 2, 3, 4, 5, 6, 7, 8, 9, 10}\n"
          ],
          "name": "stdout"
        }
      ]
    },
    {
      "cell_type": "code",
      "metadata": {
        "id": "TJHQ4IGKdlmB",
        "colab": {
          "base_uri": "https://localhost:8080/"
        },
        "outputId": "025f9e7b-8b02-435c-b058-c1220165fd28"
      },
      "source": [
        "kume ={1,2,3,4,5,6}\n",
        "kume.remove(4)\n",
        "print(kume)"
      ],
      "execution_count": 40,
      "outputs": [
        {
          "output_type": "stream",
          "text": [
            "{1, 2, 3, 5, 6}\n"
          ],
          "name": "stdout"
        }
      ]
    },
    {
      "cell_type": "code",
      "metadata": {
        "id": "ZVmjATFWdySC"
      },
      "source": [
        "A = {1,2,3,4,9}\n",
        "B = {3,4,5,6,10}\n",
        "C = {4,7,8,9,10}"
      ],
      "execution_count": 41,
      "outputs": []
    },
    {
      "cell_type": "code",
      "metadata": {
        "colab": {
          "base_uri": "https://localhost:8080/"
        },
        "id": "IXo6pqBnd3eo",
        "outputId": "a7e7e329-846b-4afa-f752-ce0d7e7d92e8"
      },
      "source": [
        "print(A.union(B))"
      ],
      "execution_count": 42,
      "outputs": [
        {
          "output_type": "stream",
          "text": [
            "{1, 2, 3, 4, 5, 6, 9, 10}\n"
          ],
          "name": "stdout"
        }
      ]
    },
    {
      "cell_type": "code",
      "metadata": {
        "colab": {
          "base_uri": "https://localhost:8080/"
        },
        "id": "GG42w8RPd84e",
        "outputId": "7ee8cc02-24bd-4ac8-e06e-4f484ce6587c"
      },
      "source": [
        "print(A.intersection(C))"
      ],
      "execution_count": 43,
      "outputs": [
        {
          "output_type": "stream",
          "text": [
            "{9, 4}\n"
          ],
          "name": "stdout"
        }
      ]
    },
    {
      "cell_type": "code",
      "metadata": {
        "colab": {
          "base_uri": "https://localhost:8080/"
        },
        "id": "K7se7P1yeCAo",
        "outputId": "de0b2941-0844-45ce-f5a4-4195ee9a0073"
      },
      "source": [
        "print(A.intersection(B.intersection(C)))"
      ],
      "execution_count": 44,
      "outputs": [
        {
          "output_type": "stream",
          "text": [
            "{4}\n"
          ],
          "name": "stdout"
        }
      ]
    },
    {
      "cell_type": "code",
      "metadata": {
        "colab": {
          "base_uri": "https://localhost:8080/"
        },
        "id": "LNuyz-L7eI96",
        "outputId": "20358c70-d04b-4cf1-c44e-04c6274a1fcb"
      },
      "source": [
        "print(A.difference(B))"
      ],
      "execution_count": 45,
      "outputs": [
        {
          "output_type": "stream",
          "text": [
            "{1, 2, 9}\n"
          ],
          "name": "stdout"
        }
      ]
    },
    {
      "cell_type": "code",
      "metadata": {
        "colab": {
          "base_uri": "https://localhost:8080/"
        },
        "id": "cg7RAG-aeNcU",
        "outputId": "7ff74a89-fe6a-4e19-db64-89ad0b874bd3"
      },
      "source": [
        "A = {1,2,5,8,9,12}\n",
        "B = {1,2,5}\n",
        " \n",
        "print(B.issubset(A))"
      ],
      "execution_count": 46,
      "outputs": [
        {
          "output_type": "stream",
          "text": [
            "True\n"
          ],
          "name": "stdout"
        }
      ]
    },
    {
      "cell_type": "code",
      "metadata": {
        "colab": {
          "base_uri": "https://localhost:8080/"
        },
        "id": "Dqrz1dZ28fXm",
        "outputId": "b644fe0a-1da6-4391-b8c1-d6737d7774af"
      },
      "source": [
        "meyveler={\"elma\",\"armut\",\"karpuz\"}\n",
        "for meyve in meyveler:\n",
        "  print(meyve)"
      ],
      "execution_count": 47,
      "outputs": [
        {
          "output_type": "stream",
          "text": [
            "armut\n",
            "karpuz\n",
            "elma\n"
          ],
          "name": "stdout"
        }
      ]
    },
    {
      "cell_type": "code",
      "metadata": {
        "colab": {
          "base_uri": "https://localhost:8080/"
        },
        "id": "IOQUyxtJ8z7l",
        "outputId": "61e748fd-934f-473e-d551-8680759b0608"
      },
      "source": [
        "iller={\"Manisa\",\"Denizli\",\"İzmir\",\"Balıkesir\"}\n",
        "print(\"İzmir\" in iller)"
      ],
      "execution_count": 51,
      "outputs": [
        {
          "output_type": "stream",
          "text": [
            "True\n"
          ],
          "name": "stdout"
        }
      ]
    },
    {
      "cell_type": "code",
      "metadata": {
        "colab": {
          "base_uri": "https://localhost:8080/",
          "height": 35
        },
        "id": "LNn_VPzA9uHk",
        "outputId": "48f81ab8-1eae-45ef-f023-0d94e40fd541"
      },
      "source": [
        "iller={\"Manisa\",\"Denizli\",\"İzmir\",\"Balıkesir\"}\n",
        "iller.pop()"
      ],
      "execution_count": 57,
      "outputs": [
        {
          "output_type": "execute_result",
          "data": {
            "application/vnd.google.colaboratory.intrinsic+json": {
              "type": "string"
            },
            "text/plain": [
              "'Balıkesir'"
            ]
          },
          "metadata": {
            "tags": []
          },
          "execution_count": 57
        }
      ]
    },
    {
      "cell_type": "code",
      "metadata": {
        "colab": {
          "base_uri": "https://localhost:8080/"
        },
        "id": "yGjDKICM-L-0",
        "outputId": "15f18718-b269-46d1-b03e-b33ad21eb75a"
      },
      "source": [
        "iller.clear() #içerisindeki bilgiler silinir.\n",
        "iller"
      ],
      "execution_count": 59,
      "outputs": [
        {
          "output_type": "execute_result",
          "data": {
            "text/plain": [
              "set()"
            ]
          },
          "metadata": {
            "tags": []
          },
          "execution_count": 59
        }
      ]
    },
    {
      "cell_type": "code",
      "metadata": {
        "colab": {
          "base_uri": "https://localhost:8080/",
          "height": 198
        },
        "id": "QvtZn57l-R9M",
        "outputId": "325652c9-eac7-4fb7-a128-5f016e311cc4"
      },
      "source": [
        "iller={\"Manisa\",\"Denizli\",\"İzmir\",\"Balıkesir\"}\n",
        "del iller #tüm set listesi tamamen silinir.\n",
        "iller"
      ],
      "execution_count": 61,
      "outputs": [
        {
          "output_type": "error",
          "ename": "NameError",
          "evalue": "ignored",
          "traceback": [
            "\u001b[0;31m---------------------------------------------------------------------------\u001b[0m",
            "\u001b[0;31mNameError\u001b[0m                                 Traceback (most recent call last)",
            "\u001b[0;32m<ipython-input-61-51205fc0b0aa>\u001b[0m in \u001b[0;36m<module>\u001b[0;34m()\u001b[0m\n\u001b[1;32m      1\u001b[0m \u001b[0miller\u001b[0m\u001b[0;34m=\u001b[0m\u001b[0;34m{\u001b[0m\u001b[0;34m\"Manisa\"\u001b[0m\u001b[0;34m,\u001b[0m\u001b[0;34m\"Denizli\"\u001b[0m\u001b[0;34m,\u001b[0m\u001b[0;34m\"İzmir\"\u001b[0m\u001b[0;34m,\u001b[0m\u001b[0;34m\"Balıkesir\"\u001b[0m\u001b[0;34m}\u001b[0m\u001b[0;34m\u001b[0m\u001b[0;34m\u001b[0m\u001b[0m\n\u001b[1;32m      2\u001b[0m \u001b[0;32mdel\u001b[0m \u001b[0miller\u001b[0m\u001b[0;34m\u001b[0m\u001b[0;34m\u001b[0m\u001b[0m\n\u001b[0;32m----> 3\u001b[0;31m \u001b[0miller\u001b[0m\u001b[0;34m\u001b[0m\u001b[0;34m\u001b[0m\u001b[0m\n\u001b[0m",
            "\u001b[0;31mNameError\u001b[0m: name 'iller' is not defined"
          ]
        }
      ]
    },
    {
      "cell_type": "code",
      "metadata": {
        "colab": {
          "base_uri": "https://localhost:8080/"
        },
        "id": "Cg4E85JHBBmy",
        "outputId": "61f9f4e2-8c7e-4d13-88af-db3bbcaee373"
      },
      "source": [
        "A={1,2,3}\n",
        "B={3,2,3,1,1,1,1,1,1,1,1,1,1,1,1,1,1,1,1,1,1}#{1,2,3}\n",
        "print(A==B) #true, false"
      ],
      "execution_count": 71,
      "outputs": [
        {
          "output_type": "stream",
          "text": [
            "True\n"
          ],
          "name": "stdout"
        }
      ]
    },
    {
      "cell_type": "markdown",
      "metadata": {
        "id": "CeSKQcF3efAz"
      },
      "source": [
        "**Frozenset(Kısıtlanmış Küme)**"
      ]
    },
    {
      "cell_type": "code",
      "metadata": {
        "colab": {
          "base_uri": "https://localhost:8080/"
        },
        "id": "a5AJogs6ePnF",
        "outputId": "1c8411c1-cbab-4013-eb2f-c93e9f9934c2"
      },
      "source": [
        "kisitli_kume = frozenset([\"Python\",3.14,5,'A'])\n",
        "print(kisitli_kume)\n",
        "#mutable (değiştirebilir , immutable (değiştirilemez)\n",
        "frozenset({5, 3.14, 'Python', 'A'})"
      ],
      "execution_count": 62,
      "outputs": [
        {
          "output_type": "stream",
          "text": [
            "frozenset({'A', 3.14, 'Python', 5})\n"
          ],
          "name": "stdout"
        },
        {
          "output_type": "execute_result",
          "data": {
            "text/plain": [
              "frozenset({3.14, 5, 'A', 'Python'})"
            ]
          },
          "metadata": {
            "tags": []
          },
          "execution_count": 62
        }
      ]
    },
    {
      "cell_type": "code",
      "metadata": {
        "colab": {
          "base_uri": "https://localhost:8080/",
          "height": 164
        },
        "id": "HsP30Tx7etX0",
        "outputId": "8699833d-4c16-4bab-d3c8-0596d1113bf3"
      },
      "source": [
        "kisitli_kume.remove(\"Python\")"
      ],
      "execution_count": 63,
      "outputs": [
        {
          "output_type": "error",
          "ename": "AttributeError",
          "evalue": "ignored",
          "traceback": [
            "\u001b[0;31m---------------------------------------------------------------------------\u001b[0m",
            "\u001b[0;31mAttributeError\u001b[0m                            Traceback (most recent call last)",
            "\u001b[0;32m<ipython-input-63-97920b28b028>\u001b[0m in \u001b[0;36m<module>\u001b[0;34m()\u001b[0m\n\u001b[0;32m----> 1\u001b[0;31m \u001b[0mkisitli_kume\u001b[0m\u001b[0;34m.\u001b[0m\u001b[0mremove\u001b[0m\u001b[0;34m(\u001b[0m\u001b[0;34m\"Python\"\u001b[0m\u001b[0;34m)\u001b[0m\u001b[0;34m\u001b[0m\u001b[0;34m\u001b[0m\u001b[0m\n\u001b[0m",
            "\u001b[0;31mAttributeError\u001b[0m: 'frozenset' object has no attribute 'remove'"
          ]
        }
      ]
    },
    {
      "cell_type": "code",
      "metadata": {
        "id": "oGPfqceXeufK",
        "colab": {
          "base_uri": "https://localhost:8080/",
          "height": 164
        },
        "outputId": "a961d4cb-d593-406a-facb-02ab184b6e4e"
      },
      "source": [
        "kisitli_kume.add(\"Bilgisayar\")"
      ],
      "execution_count": 64,
      "outputs": [
        {
          "output_type": "error",
          "ename": "AttributeError",
          "evalue": "ignored",
          "traceback": [
            "\u001b[0;31m---------------------------------------------------------------------------\u001b[0m",
            "\u001b[0;31mAttributeError\u001b[0m                            Traceback (most recent call last)",
            "\u001b[0;32m<ipython-input-64-4d2079a58b3c>\u001b[0m in \u001b[0;36m<module>\u001b[0;34m()\u001b[0m\n\u001b[0;32m----> 1\u001b[0;31m \u001b[0mkisitli_kume\u001b[0m\u001b[0;34m.\u001b[0m\u001b[0madd\u001b[0m\u001b[0;34m(\u001b[0m\u001b[0;34m\"Bilgisayar\"\u001b[0m\u001b[0;34m)\u001b[0m\u001b[0;34m\u001b[0m\u001b[0;34m\u001b[0m\u001b[0m\n\u001b[0m",
            "\u001b[0;31mAttributeError\u001b[0m: 'frozenset' object has no attribute 'add'"
          ]
        }
      ]
    },
    {
      "cell_type": "code",
      "metadata": {
        "colab": {
          "base_uri": "https://localhost:8080/"
        },
        "id": "VZZXNEUSAMdB",
        "outputId": "0c7dc2ce-f2bb-4980-a075-181ca64fb515"
      },
      "source": [
        "for bilgi in kisitli_kume:\n",
        "  bilgi=3\n",
        "  print(\"Değiştirildi..\")"
      ],
      "execution_count": 68,
      "outputs": [
        {
          "output_type": "stream",
          "text": [
            "Değiştirildi..\n",
            "Değiştirildi..\n",
            "Değiştirildi..\n",
            "Değiştirildi..\n"
          ],
          "name": "stdout"
        }
      ]
    },
    {
      "cell_type": "code",
      "metadata": {
        "colab": {
          "base_uri": "https://localhost:8080/"
        },
        "id": "-ElI5eeKApVZ",
        "outputId": "54bd54f1-babb-4e77-fd00-f558e0f33977"
      },
      "source": [
        "kisitli_kume"
      ],
      "execution_count": 69,
      "outputs": [
        {
          "output_type": "execute_result",
          "data": {
            "text/plain": [
              "frozenset({3.14, 5, 'A', 'Python'})"
            ]
          },
          "metadata": {
            "tags": []
          },
          "execution_count": 69
        }
      ]
    },
    {
      "cell_type": "markdown",
      "metadata": {
        "id": "Z2odXhYHeW0g"
      },
      "source": [
        "KAYNAKÇA:\n",
        "\n",
        "1-https://www.mobilhanem.com/python-set-kume-ve-fronzsetkisitlanmis-kume/\n",
        "\n",
        "2-https://www.sadikturan.com/python-objeleri-ve-veri-yapilari/python-dictionary/1379\n",
        "\n"
      ]
    }
  ]
}