{
  "nbformat": 4,
  "nbformat_minor": 0,
  "metadata": {
    "colab": {
      "name": "VeriYapilari_Ders7.ipynb",
      "provenance": [],
      "authorship_tag": "ABX9TyMS7YKFpTxCCpzj92vzT81O"
    },
    "kernelspec": {
      "name": "python3",
      "display_name": "Python 3"
    },
    "language_info": {
      "name": "python"
    }
  },
  "cells": [
    {
      "cell_type": "code",
      "metadata": {
        "colab": {
          "base_uri": "https://localhost:8080/"
        },
        "id": "NydjIjxgYWre",
        "outputId": "4f9350a2-5508-4881-d41a-30312bcd8124"
      },
      "source": [
        "while True: #while i<5:\n",
        "    x = input(\"Bir sayı girin: \") #x= str türünde \n",
        "    if not x:\n",
        "        break\n",
        "    try:\n",
        "        y = float(x)\n",
        "    except ValueError:\n",
        "        print(\"Geçersiz sayı\")\n",
        "        continue\n",
        "    print(y**2)\n",
        "\n",
        "k=input(\"Mesajınızı giriniz..\")\n",
        "print(k)"
      ],
      "execution_count": 2,
      "outputs": [
        {
          "output_type": "stream",
          "text": [
            "Bir sayı girin: 5\n",
            "25.0\n",
            "Bir sayı girin: akhisar\n",
            "Geçersiz sayı\n",
            "Bir sayı girin: \n",
            "Mesajınızı giriniz..Merhaba\n",
            "Merhaba\n"
          ],
          "name": "stdout"
        }
      ]
    },
    {
      "cell_type": "code",
      "metadata": {
        "colab": {
          "base_uri": "https://localhost:8080/",
          "height": 813
        },
        "id": "Vch1SrJTX0AJ",
        "outputId": "41d50249-dfa6-448c-e656-a416e02603bb"
      },
      "source": [
        "def switch(deger):\n",
        "    case={}\n",
        "    while True:\n",
        "        try:\n",
        "            case = {\n",
        " \n",
        "                 0:'Case 0\\'ın değeri', #Birinci seçenek\n",
        "                 1:'Case 1\\'ın değeri', #İkinci seçenek\n",
        "                 2: 'Case 2\\'ın değeri',#Üçüncü seçenek\n",
        "                 3: 'Case 3\\'ın değeri',#Dördüncü seçenek\n",
        "                 4: 'Case 4\\'ın değeri', #Beşinci seçenek\n",
        "                 'default':'yanlış bir değer girdiniz' # diğer dillerde olduğu gibi default case değerini oluşturma\n",
        "            }\n",
        "            print(case[deger])  # parametreden gelen değeri basıyoruz\n",
        "            break #programın döngüden çıkmasını sağlıyoruz\n",
        "        except KeyError:\n",
        "            print(case['default']) #hatalı giriş olduğu anda default değeri basıyoruz .\n",
        "            break #programın döngüden çıkmasını sağlıyoruz\n",
        "        except ValueError:\n",
        "            print(\"Girdiğiniz değer bir tam sayı değil\")\n",
        "            break\n",
        "def main():\n",
        " \n",
        "    while True:\n",
        "      try:\n",
        "         deger = int(input(\"Lütfen bir tam sayı girin ... : \"))\n",
        "         switch(deger)\n",
        "      except ValueError:\n",
        "         print(\"Girdiğiniz değer bir tam sayı değil\")\n",
        "         continue\n",
        "main()"
      ],
      "execution_count": 3,
      "outputs": [
        {
          "output_type": "stream",
          "text": [
            "Lütfen bir tam sayı girin ... : 5\n",
            "yanlış bir değer girdiniz\n",
            "Lütfen bir tam sayı girin ... : 2\n",
            "Case 2'ın değeri\n",
            "Lütfen bir tam sayı girin ... : manisa\n",
            "Girdiğiniz değer bir tam sayı değil\n",
            "Lütfen bir tam sayı girin ... : 3.2\n",
            "Girdiğiniz değer bir tam sayı değil\n",
            "Lütfen bir tam sayı girin ... : \n",
            "Girdiğiniz değer bir tam sayı değil\n",
            "Lütfen bir tam sayı girin ... : akhisar\n",
            "Girdiğiniz değer bir tam sayı değil\n",
            "Lütfen bir tam sayı girin ... : xyz45\n",
            "Girdiğiniz değer bir tam sayı değil\n",
            "Lütfen bir tam sayı girin ... : 56\n",
            "yanlış bir değer girdiniz\n"
          ],
          "name": "stdout"
        },
        {
          "output_type": "error",
          "ename": "KeyboardInterrupt",
          "evalue": "ignored",
          "traceback": [
            "\u001b[0;31m---------------------------------------------------------------------------\u001b[0m",
            "\u001b[0;31mKeyboardInterrupt\u001b[0m                         Traceback (most recent call last)",
            "\u001b[0;32m/usr/local/lib/python3.7/dist-packages/ipykernel/kernelbase.py\u001b[0m in \u001b[0;36m_input_request\u001b[0;34m(self, prompt, ident, parent, password)\u001b[0m\n\u001b[1;32m    728\u001b[0m             \u001b[0;32mtry\u001b[0m\u001b[0;34m:\u001b[0m\u001b[0;34m\u001b[0m\u001b[0;34m\u001b[0m\u001b[0m\n\u001b[0;32m--> 729\u001b[0;31m                 \u001b[0mident\u001b[0m\u001b[0;34m,\u001b[0m \u001b[0mreply\u001b[0m \u001b[0;34m=\u001b[0m \u001b[0mself\u001b[0m\u001b[0;34m.\u001b[0m\u001b[0msession\u001b[0m\u001b[0;34m.\u001b[0m\u001b[0mrecv\u001b[0m\u001b[0;34m(\u001b[0m\u001b[0mself\u001b[0m\u001b[0;34m.\u001b[0m\u001b[0mstdin_socket\u001b[0m\u001b[0;34m,\u001b[0m \u001b[0;36m0\u001b[0m\u001b[0;34m)\u001b[0m\u001b[0;34m\u001b[0m\u001b[0;34m\u001b[0m\u001b[0m\n\u001b[0m\u001b[1;32m    730\u001b[0m             \u001b[0;32mexcept\u001b[0m \u001b[0mException\u001b[0m\u001b[0;34m:\u001b[0m\u001b[0;34m\u001b[0m\u001b[0;34m\u001b[0m\u001b[0m\n",
            "\u001b[0;32m/usr/local/lib/python3.7/dist-packages/jupyter_client/session.py\u001b[0m in \u001b[0;36mrecv\u001b[0;34m(self, socket, mode, content, copy)\u001b[0m\n\u001b[1;32m    802\u001b[0m         \u001b[0;32mtry\u001b[0m\u001b[0;34m:\u001b[0m\u001b[0;34m\u001b[0m\u001b[0;34m\u001b[0m\u001b[0m\n\u001b[0;32m--> 803\u001b[0;31m             \u001b[0mmsg_list\u001b[0m \u001b[0;34m=\u001b[0m \u001b[0msocket\u001b[0m\u001b[0;34m.\u001b[0m\u001b[0mrecv_multipart\u001b[0m\u001b[0;34m(\u001b[0m\u001b[0mmode\u001b[0m\u001b[0;34m,\u001b[0m \u001b[0mcopy\u001b[0m\u001b[0;34m=\u001b[0m\u001b[0mcopy\u001b[0m\u001b[0;34m)\u001b[0m\u001b[0;34m\u001b[0m\u001b[0;34m\u001b[0m\u001b[0m\n\u001b[0m\u001b[1;32m    804\u001b[0m         \u001b[0;32mexcept\u001b[0m \u001b[0mzmq\u001b[0m\u001b[0;34m.\u001b[0m\u001b[0mZMQError\u001b[0m \u001b[0;32mas\u001b[0m \u001b[0me\u001b[0m\u001b[0;34m:\u001b[0m\u001b[0;34m\u001b[0m\u001b[0;34m\u001b[0m\u001b[0m\n",
            "\u001b[0;32m/usr/local/lib/python3.7/dist-packages/zmq/sugar/socket.py\u001b[0m in \u001b[0;36mrecv_multipart\u001b[0;34m(self, flags, copy, track)\u001b[0m\n\u001b[1;32m    582\u001b[0m         \"\"\"\n\u001b[0;32m--> 583\u001b[0;31m         \u001b[0mparts\u001b[0m \u001b[0;34m=\u001b[0m \u001b[0;34m[\u001b[0m\u001b[0mself\u001b[0m\u001b[0;34m.\u001b[0m\u001b[0mrecv\u001b[0m\u001b[0;34m(\u001b[0m\u001b[0mflags\u001b[0m\u001b[0;34m,\u001b[0m \u001b[0mcopy\u001b[0m\u001b[0;34m=\u001b[0m\u001b[0mcopy\u001b[0m\u001b[0;34m,\u001b[0m \u001b[0mtrack\u001b[0m\u001b[0;34m=\u001b[0m\u001b[0mtrack\u001b[0m\u001b[0;34m)\u001b[0m\u001b[0;34m]\u001b[0m\u001b[0;34m\u001b[0m\u001b[0;34m\u001b[0m\u001b[0m\n\u001b[0m\u001b[1;32m    584\u001b[0m         \u001b[0;31m# have first part already, only loop while more to receive\u001b[0m\u001b[0;34m\u001b[0m\u001b[0;34m\u001b[0m\u001b[0;34m\u001b[0m\u001b[0m\n",
            "\u001b[0;32mzmq/backend/cython/socket.pyx\u001b[0m in \u001b[0;36mzmq.backend.cython.socket.Socket.recv\u001b[0;34m()\u001b[0m\n",
            "\u001b[0;32mzmq/backend/cython/socket.pyx\u001b[0m in \u001b[0;36mzmq.backend.cython.socket.Socket.recv\u001b[0;34m()\u001b[0m\n",
            "\u001b[0;32mzmq/backend/cython/socket.pyx\u001b[0m in \u001b[0;36mzmq.backend.cython.socket._recv_copy\u001b[0;34m()\u001b[0m\n",
            "\u001b[0;32m/usr/local/lib/python3.7/dist-packages/zmq/backend/cython/checkrc.pxd\u001b[0m in \u001b[0;36mzmq.backend.cython.checkrc._check_rc\u001b[0;34m()\u001b[0m\n",
            "\u001b[0;31mKeyboardInterrupt\u001b[0m: ",
            "\nDuring handling of the above exception, another exception occurred:\n",
            "\u001b[0;31mKeyboardInterrupt\u001b[0m                         Traceback (most recent call last)",
            "\u001b[0;32m<ipython-input-3-922f81140a2f>\u001b[0m in \u001b[0;36m<module>\u001b[0;34m()\u001b[0m\n\u001b[1;32m     29\u001b[0m          \u001b[0mprint\u001b[0m\u001b[0;34m(\u001b[0m\u001b[0;34m\"Girdiğiniz değer bir tam sayı değil\"\u001b[0m\u001b[0;34m)\u001b[0m\u001b[0;34m\u001b[0m\u001b[0;34m\u001b[0m\u001b[0m\n\u001b[1;32m     30\u001b[0m          \u001b[0;32mcontinue\u001b[0m\u001b[0;34m\u001b[0m\u001b[0;34m\u001b[0m\u001b[0m\n\u001b[0;32m---> 31\u001b[0;31m \u001b[0mmain\u001b[0m\u001b[0;34m(\u001b[0m\u001b[0;34m)\u001b[0m\u001b[0;34m\u001b[0m\u001b[0;34m\u001b[0m\u001b[0m\n\u001b[0m",
            "\u001b[0;32m<ipython-input-3-922f81140a2f>\u001b[0m in \u001b[0;36mmain\u001b[0;34m()\u001b[0m\n\u001b[1;32m     24\u001b[0m     \u001b[0;32mwhile\u001b[0m \u001b[0;32mTrue\u001b[0m\u001b[0;34m:\u001b[0m\u001b[0;34m\u001b[0m\u001b[0;34m\u001b[0m\u001b[0m\n\u001b[1;32m     25\u001b[0m       \u001b[0;32mtry\u001b[0m\u001b[0;34m:\u001b[0m\u001b[0;34m\u001b[0m\u001b[0;34m\u001b[0m\u001b[0m\n\u001b[0;32m---> 26\u001b[0;31m          \u001b[0mdeger\u001b[0m \u001b[0;34m=\u001b[0m \u001b[0mint\u001b[0m\u001b[0;34m(\u001b[0m\u001b[0minput\u001b[0m\u001b[0;34m(\u001b[0m\u001b[0;34m\"Lütfen bir tam sayı girin ... : \"\u001b[0m\u001b[0;34m)\u001b[0m\u001b[0;34m)\u001b[0m\u001b[0;34m\u001b[0m\u001b[0;34m\u001b[0m\u001b[0m\n\u001b[0m\u001b[1;32m     27\u001b[0m          \u001b[0mswitch\u001b[0m\u001b[0;34m(\u001b[0m\u001b[0mdeger\u001b[0m\u001b[0;34m)\u001b[0m\u001b[0;34m\u001b[0m\u001b[0;34m\u001b[0m\u001b[0m\n\u001b[1;32m     28\u001b[0m       \u001b[0;32mexcept\u001b[0m \u001b[0mValueError\u001b[0m\u001b[0;34m:\u001b[0m\u001b[0;34m\u001b[0m\u001b[0;34m\u001b[0m\u001b[0m\n",
            "\u001b[0;32m/usr/local/lib/python3.7/dist-packages/ipykernel/kernelbase.py\u001b[0m in \u001b[0;36mraw_input\u001b[0;34m(self, prompt)\u001b[0m\n\u001b[1;32m    702\u001b[0m             \u001b[0mself\u001b[0m\u001b[0;34m.\u001b[0m\u001b[0m_parent_ident\u001b[0m\u001b[0;34m,\u001b[0m\u001b[0;34m\u001b[0m\u001b[0;34m\u001b[0m\u001b[0m\n\u001b[1;32m    703\u001b[0m             \u001b[0mself\u001b[0m\u001b[0;34m.\u001b[0m\u001b[0m_parent_header\u001b[0m\u001b[0;34m,\u001b[0m\u001b[0;34m\u001b[0m\u001b[0;34m\u001b[0m\u001b[0m\n\u001b[0;32m--> 704\u001b[0;31m             \u001b[0mpassword\u001b[0m\u001b[0;34m=\u001b[0m\u001b[0;32mFalse\u001b[0m\u001b[0;34m,\u001b[0m\u001b[0;34m\u001b[0m\u001b[0;34m\u001b[0m\u001b[0m\n\u001b[0m\u001b[1;32m    705\u001b[0m         )\n\u001b[1;32m    706\u001b[0m \u001b[0;34m\u001b[0m\u001b[0m\n",
            "\u001b[0;32m/usr/local/lib/python3.7/dist-packages/ipykernel/kernelbase.py\u001b[0m in \u001b[0;36m_input_request\u001b[0;34m(self, prompt, ident, parent, password)\u001b[0m\n\u001b[1;32m    732\u001b[0m             \u001b[0;32mexcept\u001b[0m \u001b[0mKeyboardInterrupt\u001b[0m\u001b[0;34m:\u001b[0m\u001b[0;34m\u001b[0m\u001b[0;34m\u001b[0m\u001b[0m\n\u001b[1;32m    733\u001b[0m                 \u001b[0;31m# re-raise KeyboardInterrupt, to truncate traceback\u001b[0m\u001b[0;34m\u001b[0m\u001b[0;34m\u001b[0m\u001b[0;34m\u001b[0m\u001b[0m\n\u001b[0;32m--> 734\u001b[0;31m                 \u001b[0;32mraise\u001b[0m \u001b[0mKeyboardInterrupt\u001b[0m\u001b[0;34m\u001b[0m\u001b[0;34m\u001b[0m\u001b[0m\n\u001b[0m\u001b[1;32m    735\u001b[0m             \u001b[0;32melse\u001b[0m\u001b[0;34m:\u001b[0m\u001b[0;34m\u001b[0m\u001b[0;34m\u001b[0m\u001b[0m\n\u001b[1;32m    736\u001b[0m                 \u001b[0;32mbreak\u001b[0m\u001b[0;34m\u001b[0m\u001b[0;34m\u001b[0m\u001b[0m\n",
            "\u001b[0;31mKeyboardInterrupt\u001b[0m: "
          ]
        }
      ]
    },
    {
      "cell_type": "code",
      "metadata": {
        "colab": {
          "base_uri": "https://localhost:8080/"
        },
        "id": "zXZrXxR2XFdo",
        "outputId": "0dc2b053-d4bf-4f8c-e129-885637e47ef6"
      },
      "source": [
        "class Doviz:\n",
        "    kur={'EURO':10,\n",
        "         'USD':8,\n",
        "         'CHF':3.87\n",
        "         }\n",
        "    def __init__(self,kur,miktar): #yapıcı metot\n",
        "        self.kur=kur\n",
        "        self.miktar=miktar\n",
        " \n",
        "    def __add__(self, other):\n",
        "        s=self.miktar*Doviz.kur[self.kur]\n",
        "        o=other.miktar*Doviz.kur[other.kur]\n",
        "        return  s+o\n",
        " \n",
        "    def __str__(self): #to.string()\n",
        "        return (\"%s %s\"%(self.miktar,self.kur))\n",
        " \n",
        "def main():\n",
        "    print(\"Kur Hesaplama\\n\")\n",
        "    dolar=Doviz(\"USD\",2.5)\n",
        "    euro=Doviz(\"EURO\",3)\n",
        "    toplam=dolar+euro\n",
        "    print(dolar,\"+\" , euro,\"=\",toplam ,\"TL \")\n",
        " \n",
        "    print(\"\\n\\n**********************\\n\")\n",
        " \n",
        "    chf = Doviz(\"CHF\", 50)\n",
        "    euro = Doviz(\"EURO\", 35)\n",
        "    toplam2 = chf + euro\n",
        "    print(chf, \"+\", euro, \"=\", toplam2, \"TL \")\n",
        " \n",
        "main()"
      ],
      "execution_count": 4,
      "outputs": [
        {
          "output_type": "stream",
          "text": [
            "Kur Hesaplama\n",
            "\n",
            "2.5 USD + 3 EURO = 50.0 TL \n",
            "\n",
            "\n",
            "**********************\n",
            "\n",
            "50 CHF + 35 EURO = 543.5 TL \n"
          ],
          "name": "stdout"
        }
      ]
    },
    {
      "cell_type": "code",
      "metadata": {
        "colab": {
          "base_uri": "https://localhost:8080/"
        },
        "id": "iYcxdd-LXWKx",
        "outputId": "b97e7f86-619f-4a26-9b9c-039a24f6824d"
      },
      "source": [
        "class Kutu:\n",
        " \n",
        "    def __init__(self,uzunluk,genislik,yukseklik): #yapıcı method\n",
        " \n",
        "        self.uzunluk=uzunluk\n",
        "        self.genislik=genislik\n",
        "        self.yukseklik=yukseklik\n",
        " \n",
        "    def __str__(self): #nesnelerin toString edilmiş hali\n",
        "       return \" [ uzunluk = \" + str(self.uzunluk) + \" genislik = \" + str(self.genislik) + \" yukseklik = \" + str(self.yukseklik)\\\n",
        "              +\" hacim = \"+str(self.hacim())+ \" ]\"\n",
        " \n",
        "    def hacim(self):\n",
        "        return self.uzunluk*self.genislik*self.yukseklik\n",
        " \n",
        "    def __lt__(self,other): #nesnelerin karşılaştırılması\n",
        " \n",
        "        if (self.hacim() < other.hacim()):\n",
        " \n",
        "           return \"Sonuç \\n1.Parametredeki Kutu Büyüktür\"\n",
        " \n",
        "        elif(self.hacim() > other.hacim()):\n",
        " \n",
        "            return \"Sonuç \\n2.Parametredeki Kutu Büyüktür\"\n",
        " \n",
        "        else:\n",
        " \n",
        "            return \"Sonuç \\nKutular Eşittir!\"\n",
        " \n",
        " \n",
        "kutu1=Kutu(3,4,5)#60\n",
        "kutu2=Kutu(4,5,6)#120\n",
        "kutu3=Kutu(4,5,6)#120\n",
        " \n",
        "print(\"\\nkutu1=\", kutu1) #toString burada çalışır\n",
        "print(\"kutu2=\", kutu2) #toString burada çalışır\n",
        "print(kutu1>kutu2) #nesneler burada  karşılaştırılır\n",
        " \n",
        "print(\"\\n********************************************************************\\n\")\n",
        " \n",
        "print(\"kutu2=\", kutu2) #toString burada çalışır\n",
        "print(\"kutu3=\", kutu3) #toString burada çalışır\n",
        "print(kutu2>kutu3) #nesneler burada  karşılaştırılır"
      ],
      "execution_count": 5,
      "outputs": [
        {
          "output_type": "stream",
          "text": [
            "\n",
            "kutu1=  [ uzunluk = 3 genislik = 4 yukseklik = 5 hacim = 60 ]\n",
            "kutu2=  [ uzunluk = 4 genislik = 5 yukseklik = 6 hacim = 120 ]\n",
            "Sonuç \n",
            "2.Parametredeki Kutu Büyüktür\n",
            "\n",
            "********************************************************************\n",
            "\n",
            "kutu2=  [ uzunluk = 4 genislik = 5 yukseklik = 6 hacim = 120 ]\n",
            "kutu3=  [ uzunluk = 4 genislik = 5 yukseklik = 6 hacim = 120 ]\n",
            "Sonuç \n",
            "Kutular Eşittir!\n"
          ],
          "name": "stdout"
        }
      ]
    },
    {
      "cell_type": "markdown",
      "metadata": {
        "id": "4g0EY9e9YmTT"
      },
      "source": [
        "**Collections**"
      ]
    },
    {
      "cell_type": "code",
      "metadata": {
        "colab": {
          "base_uri": "https://localhost:8080/"
        },
        "id": "5MLma2JlYpuZ",
        "outputId": "911d4d33-b7aa-4985-ec03-4611f5a648e7"
      },
      "source": [
        "from collections import deque\n",
        "\n",
        "dq = deque([1,2,3,4,5]) #maxlen = None\n",
        "dq_maxlen = deque([1,2,3,4,5,6],4) #maxlen = 4\n",
        "print(\"dq: \",dq)\n",
        "print(\"dq_maxlen: \",dq_maxlen)\n",
        "print(\"dq maxlen: \",dq_maxlen.maxlen)"
      ],
      "execution_count": 6,
      "outputs": [
        {
          "output_type": "stream",
          "text": [
            "dq:  deque([1, 2, 3, 4, 5])\n",
            "dq_maxlen:  deque([3, 4, 5, 6], maxlen=4)\n",
            "dq maxlen:  4\n"
          ],
          "name": "stdout"
        }
      ]
    },
    {
      "cell_type": "code",
      "metadata": {
        "colab": {
          "base_uri": "https://localhost:8080/"
        },
        "id": "VV1rIfuXY3fa",
        "outputId": "a7c30da1-54fb-4670-c657-8223a94947c7"
      },
      "source": [
        "dq_maxlen = deque([1,2,3], 3)\n",
        "dq_maxlen.append(4) #Sağa ekleme\n",
        "print(\"dq_maxlen: \", dq_maxlen) # 2 ,3  ,4"
      ],
      "execution_count": 7,
      "outputs": [
        {
          "output_type": "stream",
          "text": [
            "dq_maxlen:  deque([2, 3, 4], maxlen=3)\n"
          ],
          "name": "stdout"
        }
      ]
    },
    {
      "cell_type": "code",
      "metadata": {
        "colab": {
          "base_uri": "https://localhost:8080/"
        },
        "id": "qv2zyyaVY9Qn",
        "outputId": "c4a2de4b-82a4-46e2-eac4-bd8e4ff940f9"
      },
      "source": [
        "dq_maxlen.appendleft(5) # Sola ekleme 5, 2 ,3\n",
        "print(\"dq_maxlen: \", dq_maxlen)"
      ],
      "execution_count": 8,
      "outputs": [
        {
          "output_type": "stream",
          "text": [
            "dq_maxlen:  deque([5, 2, 3], maxlen=3)\n"
          ],
          "name": "stdout"
        }
      ]
    },
    {
      "cell_type": "code",
      "metadata": {
        "colab": {
          "base_uri": "https://localhost:8080/"
        },
        "id": "xRLMo0E_ZCvq",
        "outputId": "1a0e9a44-76b3-4d6d-93ac-add603ddd11b"
      },
      "source": [
        "dq = deque(\"deque\")\n",
        "print(\"dq: \", dq)"
      ],
      "execution_count": 12,
      "outputs": [
        {
          "output_type": "stream",
          "text": [
            "dq:  deque(['d', 'e', 'q', 'u', 'e'])\n"
          ],
          "name": "stdout"
        }
      ]
    },
    {
      "cell_type": "code",
      "metadata": {
        "colab": {
          "base_uri": "https://localhost:8080/"
        },
        "id": "J3DjZQjhZHEq",
        "outputId": "f71a9158-1f19-477d-b6d9-07fcc27ca489"
      },
      "source": [
        "dq.extend(\"extend\")\n",
        "print(\"dq: \", dq)"
      ],
      "execution_count": 13,
      "outputs": [
        {
          "output_type": "stream",
          "text": [
            "dq:  deque(['d', 'e', 'q', 'u', 'e', 'e', 'x', 't', 'e', 'n', 'd'])\n"
          ],
          "name": "stdout"
        }
      ]
    },
    {
      "cell_type": "code",
      "metadata": {
        "colab": {
          "base_uri": "https://localhost:8080/"
        },
        "id": "beVS3zIMZKrn",
        "outputId": "db0e90ec-6f5e-4463-b7b7-730557a6e04c"
      },
      "source": [
        "dq = deque([1,2,3]) # 1 2 3 ==> 3 1 2 ==>2 3 1\n",
        "\n",
        "dq.rotate(1)\n",
        "print(\"dq: \", dq)"
      ],
      "execution_count": 14,
      "outputs": [
        {
          "output_type": "stream",
          "text": [
            "dq:  deque([3, 1, 2])\n"
          ],
          "name": "stdout"
        }
      ]
    },
    {
      "cell_type": "code",
      "metadata": {
        "colab": {
          "base_uri": "https://localhost:8080/"
        },
        "id": "1Htak8vrBXCm",
        "outputId": "fbf6f9e9-4a2d-48a5-9639-d0a902d6730f"
      },
      "source": [
        "dq.rotate(2) # 2 3 1 ==> 3 1 2\n",
        "print(\"dq: \", dq)"
      ],
      "execution_count": 16,
      "outputs": [
        {
          "output_type": "stream",
          "text": [
            "dq:  deque([3, 1, 2])\n"
          ],
          "name": "stdout"
        }
      ]
    },
    {
      "cell_type": "code",
      "metadata": {
        "id": "RlLb9N2yZZJy",
        "colab": {
          "base_uri": "https://localhost:8080/"
        },
        "outputId": "bf50bad7-c1c8-4845-d7da-8b00eb42d1b1"
      },
      "source": [
        "dq.rotate(-2) # 3 1 2 ==> 2 3 1\n",
        "print(\"dq: \", dq)"
      ],
      "execution_count": 17,
      "outputs": [
        {
          "output_type": "stream",
          "text": [
            "dq:  deque([2, 3, 1])\n"
          ],
          "name": "stdout"
        }
      ]
    },
    {
      "cell_type": "code",
      "metadata": {
        "colab": {
          "base_uri": "https://localhost:8080/"
        },
        "id": "_y-yt1myB48O",
        "outputId": "6e489e41-66a1-42af-88a6-a684f3a93160"
      },
      "source": [
        "dq.rotate(-1) # 3 1 2 ==> 2 3 1 ==> 3 1 2\n",
        "print(\"dq: \", dq)"
      ],
      "execution_count": 18,
      "outputs": [
        {
          "output_type": "stream",
          "text": [
            "dq:  deque([3, 1, 2])\n"
          ],
          "name": "stdout"
        }
      ]
    },
    {
      "cell_type": "code",
      "metadata": {
        "colab": {
          "base_uri": "https://localhost:8080/"
        },
        "id": "Tuy0CYQhC2b8",
        "outputId": "e22834c5-487b-4ed1-9ee7-9bbe017e2839"
      },
      "source": [
        "dq1= deque([1,2,3,4,5]) #==>4 5 1 2 3\n",
        "dq1.rotate(2)\n",
        "print(\"dq1: \", dq1)"
      ],
      "execution_count": 21,
      "outputs": [
        {
          "output_type": "stream",
          "text": [
            "dq1:  deque([4, 5, 1, 2, 3])\n"
          ],
          "name": "stdout"
        }
      ]
    },
    {
      "cell_type": "code",
      "metadata": {
        "colab": {
          "base_uri": "https://localhost:8080/"
        },
        "id": "K9ydvTQaDOCn",
        "outputId": "90072f24-c6dc-4c00-bd03-1abc8cabdee0"
      },
      "source": [
        "dq1.rotate(-3) #==> 2 3 4 5 1\n",
        "print(\"dq1: \", dq1)"
      ],
      "execution_count": 22,
      "outputs": [
        {
          "output_type": "stream",
          "text": [
            "dq1:  deque([2, 3, 4, 5, 1])\n"
          ],
          "name": "stdout"
        }
      ]
    },
    {
      "cell_type": "markdown",
      "metadata": {
        "id": "i-ip-Z7GXkLo"
      },
      "source": [
        "KAYNAKÇA\n",
        "\n",
        "1-https://www.yilmazmehmet.com\n",
        "\n",
        "2-http://www.veridefteri.com/2018/06/25/python-programlamaya-giris-22-hata-yakalama-try-except/\n",
        "\n",
        "3-https://medium.com/datarunner/python-koleksiyonlar-566af81b97d6\n",
        "\n"
      ]
    }
  ]
}